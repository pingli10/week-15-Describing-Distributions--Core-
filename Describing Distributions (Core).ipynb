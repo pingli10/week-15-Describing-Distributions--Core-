{
 "cells": [
  {
   "cell_type": "code",
   "execution_count": 53,
   "id": "dc468695",
   "metadata": {},
   "outputs": [],
   "source": [
    "import pandas as pd\n",
    "import numpy as np\n",
    "import seaborn as sns\n",
    "import matplotlib.pyplot as plt\n",
    "from scipy import stats"
   ]
  },
  {
   "cell_type": "code",
   "execution_count": 54,
   "id": "6109dea8",
   "metadata": {},
   "outputs": [],
   "source": [
    "data = 'Data/data (6).csv'"
   ]
  },
  {
   "cell_type": "code",
   "execution_count": 55,
   "id": "cb81354e",
   "metadata": {},
   "outputs": [],
   "source": [
    "df = pd.read_csv(data)"
   ]
  },
  {
   "cell_type": "code",
   "execution_count": 56,
   "id": "08d83316",
   "metadata": {},
   "outputs": [
    {
     "data": {
      "text/html": [
       "<div>\n",
       "<style scoped>\n",
       "    .dataframe tbody tr th:only-of-type {\n",
       "        vertical-align: middle;\n",
       "    }\n",
       "\n",
       "    .dataframe tbody tr th {\n",
       "        vertical-align: top;\n",
       "    }\n",
       "\n",
       "    .dataframe thead th {\n",
       "        text-align: right;\n",
       "    }\n",
       "</style>\n",
       "<table border=\"1\" class=\"dataframe\">\n",
       "  <thead>\n",
       "    <tr style=\"text-align: right;\">\n",
       "      <th></th>\n",
       "      <th>State</th>\n",
       "      <th>Lat</th>\n",
       "      <th>Lng</th>\n",
       "      <th>Area</th>\n",
       "      <th>Children</th>\n",
       "      <th>Age</th>\n",
       "      <th>Income</th>\n",
       "      <th>Marital</th>\n",
       "      <th>Gender</th>\n",
       "      <th>ReAdmis</th>\n",
       "      <th>...</th>\n",
       "      <th>Hyperlipidemia</th>\n",
       "      <th>BackPain</th>\n",
       "      <th>Anxiety</th>\n",
       "      <th>Allergic_rhinitis</th>\n",
       "      <th>Reflux_esophagitis</th>\n",
       "      <th>Asthma</th>\n",
       "      <th>Services</th>\n",
       "      <th>Initial_days</th>\n",
       "      <th>TotalCharge</th>\n",
       "      <th>Additional_charges</th>\n",
       "    </tr>\n",
       "  </thead>\n",
       "  <tbody>\n",
       "    <tr>\n",
       "      <th>0</th>\n",
       "      <td>AL</td>\n",
       "      <td>34.34960</td>\n",
       "      <td>-86.72508</td>\n",
       "      <td>Suburban</td>\n",
       "      <td>1.0</td>\n",
       "      <td>53</td>\n",
       "      <td>86575.93</td>\n",
       "      <td>Divorced</td>\n",
       "      <td>Male</td>\n",
       "      <td>0</td>\n",
       "      <td>...</td>\n",
       "      <td>0.0</td>\n",
       "      <td>1.0</td>\n",
       "      <td>1.0</td>\n",
       "      <td>1.0</td>\n",
       "      <td>0</td>\n",
       "      <td>1</td>\n",
       "      <td>Blood Work</td>\n",
       "      <td>10.585770</td>\n",
       "      <td>3726.702860</td>\n",
       "      <td>17939.403420</td>\n",
       "    </tr>\n",
       "    <tr>\n",
       "      <th>1</th>\n",
       "      <td>FL</td>\n",
       "      <td>30.84513</td>\n",
       "      <td>-85.22907</td>\n",
       "      <td>Urban</td>\n",
       "      <td>3.0</td>\n",
       "      <td>51</td>\n",
       "      <td>46805.99</td>\n",
       "      <td>Married</td>\n",
       "      <td>Female</td>\n",
       "      <td>0</td>\n",
       "      <td>...</td>\n",
       "      <td>0.0</td>\n",
       "      <td>0.0</td>\n",
       "      <td>0.0</td>\n",
       "      <td>0.0</td>\n",
       "      <td>1</td>\n",
       "      <td>0</td>\n",
       "      <td>Intravenous</td>\n",
       "      <td>15.129562</td>\n",
       "      <td>4193.190458</td>\n",
       "      <td>17612.998120</td>\n",
       "    </tr>\n",
       "    <tr>\n",
       "      <th>2</th>\n",
       "      <td>SD</td>\n",
       "      <td>43.54321</td>\n",
       "      <td>-96.63772</td>\n",
       "      <td>Suburban</td>\n",
       "      <td>3.0</td>\n",
       "      <td>53</td>\n",
       "      <td>14370.14</td>\n",
       "      <td>Widowed</td>\n",
       "      <td>Female</td>\n",
       "      <td>0</td>\n",
       "      <td>...</td>\n",
       "      <td>0.0</td>\n",
       "      <td>0.0</td>\n",
       "      <td>0.0</td>\n",
       "      <td>0.0</td>\n",
       "      <td>0</td>\n",
       "      <td>0</td>\n",
       "      <td>Blood Work</td>\n",
       "      <td>4.772177</td>\n",
       "      <td>2434.234222</td>\n",
       "      <td>17505.192460</td>\n",
       "    </tr>\n",
       "    <tr>\n",
       "      <th>3</th>\n",
       "      <td>MN</td>\n",
       "      <td>43.89744</td>\n",
       "      <td>-93.51479</td>\n",
       "      <td>Suburban</td>\n",
       "      <td>0.0</td>\n",
       "      <td>78</td>\n",
       "      <td>39741.49</td>\n",
       "      <td>Married</td>\n",
       "      <td>Male</td>\n",
       "      <td>0</td>\n",
       "      <td>...</td>\n",
       "      <td>0.0</td>\n",
       "      <td>0.0</td>\n",
       "      <td>0.0</td>\n",
       "      <td>0.0</td>\n",
       "      <td>1</td>\n",
       "      <td>1</td>\n",
       "      <td>Blood Work</td>\n",
       "      <td>1.714879</td>\n",
       "      <td>2127.830423</td>\n",
       "      <td>12993.437350</td>\n",
       "    </tr>\n",
       "    <tr>\n",
       "      <th>4</th>\n",
       "      <td>VA</td>\n",
       "      <td>37.59894</td>\n",
       "      <td>-76.88958</td>\n",
       "      <td>Rural</td>\n",
       "      <td>1.0</td>\n",
       "      <td>22</td>\n",
       "      <td>1209.56</td>\n",
       "      <td>Widowed</td>\n",
       "      <td>Female</td>\n",
       "      <td>0</td>\n",
       "      <td>...</td>\n",
       "      <td>1.0</td>\n",
       "      <td>0.0</td>\n",
       "      <td>0.0</td>\n",
       "      <td>1.0</td>\n",
       "      <td>0</td>\n",
       "      <td>0</td>\n",
       "      <td>CT Scan</td>\n",
       "      <td>1.254807</td>\n",
       "      <td>2113.073274</td>\n",
       "      <td>3716.525786</td>\n",
       "    </tr>\n",
       "  </tbody>\n",
       "</table>\n",
       "<p>5 rows × 32 columns</p>\n",
       "</div>"
      ],
      "text/plain": [
       "  State       Lat       Lng      Area  Children  Age    Income   Marital  \\\n",
       "0    AL  34.34960 -86.72508  Suburban       1.0   53  86575.93  Divorced   \n",
       "1    FL  30.84513 -85.22907     Urban       3.0   51  46805.99   Married   \n",
       "2    SD  43.54321 -96.63772  Suburban       3.0   53  14370.14   Widowed   \n",
       "3    MN  43.89744 -93.51479  Suburban       0.0   78  39741.49   Married   \n",
       "4    VA  37.59894 -76.88958     Rural       1.0   22   1209.56   Widowed   \n",
       "\n",
       "   Gender  ReAdmis  ...  Hyperlipidemia  BackPain  Anxiety  Allergic_rhinitis  \\\n",
       "0    Male        0  ...             0.0       1.0      1.0                1.0   \n",
       "1  Female        0  ...             0.0       0.0      0.0                0.0   \n",
       "2  Female        0  ...             0.0       0.0      0.0                0.0   \n",
       "3    Male        0  ...             0.0       0.0      0.0                0.0   \n",
       "4  Female        0  ...             1.0       0.0      0.0                1.0   \n",
       "\n",
       "   Reflux_esophagitis Asthma     Services  Initial_days  TotalCharge  \\\n",
       "0                   0      1   Blood Work     10.585770  3726.702860   \n",
       "1                   1      0  Intravenous     15.129562  4193.190458   \n",
       "2                   0      0   Blood Work      4.772177  2434.234222   \n",
       "3                   1      1   Blood Work      1.714879  2127.830423   \n",
       "4                   0      0      CT Scan      1.254807  2113.073274   \n",
       "\n",
       "   Additional_charges  \n",
       "0        17939.403420  \n",
       "1        17612.998120  \n",
       "2        17505.192460  \n",
       "3        12993.437350  \n",
       "4         3716.525786  \n",
       "\n",
       "[5 rows x 32 columns]"
      ]
     },
     "execution_count": 56,
     "metadata": {},
     "output_type": "execute_result"
    }
   ],
   "source": [
    "df.head()"
   ]
  },
  {
   "cell_type": "code",
   "execution_count": 57,
   "id": "86361508",
   "metadata": {},
   "outputs": [
    {
     "data": {
      "text/plain": [
       "State                 5\n",
       "Lat                   0\n",
       "Lng                   0\n",
       "Area                  5\n",
       "Children              7\n",
       "Age                   0\n",
       "Income                0\n",
       "Marital               5\n",
       "Gender                5\n",
       "ReAdmis               0\n",
       "VitD_levels           0\n",
       "Doc_visits            0\n",
       "Full_meals_eaten      0\n",
       "vitD_supp             0\n",
       "Soft_drink            0\n",
       "Initial_admin         5\n",
       "HighBlood             0\n",
       "Stroke                0\n",
       "Complication_risk     5\n",
       "Overweight            0\n",
       "Arthritis             6\n",
       "Diabetes              6\n",
       "Hyperlipidemia        2\n",
       "BackPain              8\n",
       "Anxiety               2\n",
       "Allergic_rhinitis     6\n",
       "Reflux_esophagitis    0\n",
       "Asthma                0\n",
       "Services              5\n",
       "Initial_days          0\n",
       "TotalCharge           0\n",
       "Additional_charges    0\n",
       "dtype: int64"
      ]
     },
     "execution_count": 57,
     "metadata": {},
     "output_type": "execute_result"
    }
   ],
   "source": [
    "df.isna().sum()"
   ]
  },
  {
   "cell_type": "code",
   "execution_count": 58,
   "id": "9d8f0f28",
   "metadata": {},
   "outputs": [
    {
     "name": "stdout",
     "output_type": "stream",
     "text": [
      "<class 'pandas.core.frame.DataFrame'>\n",
      "RangeIndex: 1000 entries, 0 to 999\n",
      "Data columns (total 32 columns):\n",
      " #   Column              Non-Null Count  Dtype  \n",
      "---  ------              --------------  -----  \n",
      " 0   State               995 non-null    object \n",
      " 1   Lat                 1000 non-null   float64\n",
      " 2   Lng                 1000 non-null   float64\n",
      " 3   Area                995 non-null    object \n",
      " 4   Children            993 non-null    float64\n",
      " 5   Age                 1000 non-null   int64  \n",
      " 6   Income              1000 non-null   float64\n",
      " 7   Marital             995 non-null    object \n",
      " 8   Gender              995 non-null    object \n",
      " 9   ReAdmis             1000 non-null   int64  \n",
      " 10  VitD_levels         1000 non-null   float64\n",
      " 11  Doc_visits          1000 non-null   int64  \n",
      " 12  Full_meals_eaten    1000 non-null   int64  \n",
      " 13  vitD_supp           1000 non-null   int64  \n",
      " 14  Soft_drink          1000 non-null   int64  \n",
      " 15  Initial_admin       995 non-null    object \n",
      " 16  HighBlood           1000 non-null   int64  \n",
      " 17  Stroke              1000 non-null   int64  \n",
      " 18  Complication_risk   995 non-null    object \n",
      " 19  Overweight          1000 non-null   int64  \n",
      " 20  Arthritis           994 non-null    float64\n",
      " 21  Diabetes            994 non-null    float64\n",
      " 22  Hyperlipidemia      998 non-null    float64\n",
      " 23  BackPain            992 non-null    float64\n",
      " 24  Anxiety             998 non-null    float64\n",
      " 25  Allergic_rhinitis   994 non-null    float64\n",
      " 26  Reflux_esophagitis  1000 non-null   int64  \n",
      " 27  Asthma              1000 non-null   int64  \n",
      " 28  Services            995 non-null    object \n",
      " 29  Initial_days        1000 non-null   float64\n",
      " 30  TotalCharge         1000 non-null   float64\n",
      " 31  Additional_charges  1000 non-null   float64\n",
      "dtypes: float64(14), int64(11), object(7)\n",
      "memory usage: 250.1+ KB\n"
     ]
    }
   ],
   "source": [
    "df.info()"
   ]
  },
  {
   "cell_type": "code",
   "execution_count": 59,
   "id": "d89e1ff6",
   "metadata": {},
   "outputs": [],
   "source": [
    "level = 'VitD_levels'\n",
    "doc = 'Doc_visits'\n",
    "charge = 'TotalCharge'"
   ]
  },
  {
   "cell_type": "code",
   "execution_count": 60,
   "id": "3d2e19f7",
   "metadata": {},
   "outputs": [
    {
     "data": {
      "text/plain": [
       "0    19.141466\n",
       "1    18.940352\n",
       "2    18.057507\n",
       "3    16.576858\n",
       "4    17.439069\n",
       "Name: VitD_levels, dtype: float64"
      ]
     },
     "execution_count": 60,
     "metadata": {},
     "output_type": "execute_result"
    }
   ],
   "source": [
    "df[level].head(5)"
   ]
  },
  {
   "cell_type": "code",
   "execution_count": 61,
   "id": "4dd58c8c",
   "metadata": {},
   "outputs": [
    {
     "data": {
      "text/plain": [
       "<matplotlib.patches.Polygon at 0x28a006340>"
      ]
     },
     "execution_count": 61,
     "metadata": {},
     "output_type": "execute_result"
    },
    {
     "data": {
      "image/png": "[encoded data removed]",
      "text/plain": [
       "<Figure size 720x432 with 1 Axes>"
      ]
     },
     "metadata": {
      "needs_background": "light"
     },
     "output_type": "display_data"
    }
   ],
   "source": [
    "df_level = df[level]\n",
    "mean_level = df_level.mean()\n",
    "median_level = df_level.median()\n",
    "std_level = df_level.std()\n",
    "plus_one_level = mean_level + std_level\n",
    "minus_one_level = mean_level - std_level\n",
    "fig,ax = plt.subplots(figsize=(10,6))\n",
    "sns.histplot(df_level,ax=ax,stat='probability',kde=True)\n",
    "ax.axvline(mean_level,color='red',label=f'mean = {mean_level:,.2f}',)\n",
    "ax.axvline(median_level,color='green',label=f'median = {median_level:,.2f}',)\n",
    "ax.axvline(plus_one_level,color='black',label=f'+1 std = {plus_one_level:,.2f}',)\n",
    "ax.axvline(minus_one_level,color='black',label=f'-1 std = {minus_one_level:,.2f}',)\n",
    "ax.set_title(f'{level}')\n",
    "ax.legend()\n",
    "ax.axvspan(plus_one_level,minus_one_level,color='yellow',zorder=0)"
   ]
  },
  {
   "cell_type": "code",
   "execution_count": 69,
   "id": "148a4253",
   "metadata": {},
   "outputs": [
    {
     "data": {
      "text/plain": [
       "3.013147515833447"
      ]
     },
     "execution_count": 69,
     "metadata": {},
     "output_type": "execute_result"
    }
   ],
   "source": [
    "kurt_level = stats.kurtosis(df_level,fisher=False)\n",
    "kurt_level"
   ]
  },
  {
   "cell_type": "markdown",
   "id": "f9e5c72e",
   "metadata": {},
   "source": [
    "1.continuous\n",
    "2.no\n",
    "3.Mesokurtic"
   ]
  },
  {
   "cell_type": "code",
   "execution_count": 63,
   "id": "3bb87c50",
   "metadata": {},
   "outputs": [
    {
     "data": {
      "text/plain": [
       "0    6\n",
       "1    4\n",
       "2    4\n",
       "3    4\n",
       "4    5\n",
       "Name: Doc_visits, dtype: int64"
      ]
     },
     "execution_count": 63,
     "metadata": {},
     "output_type": "execute_result"
    }
   ],
   "source": [
    "df[doc].head(5)"
   ]
  },
  {
   "cell_type": "code",
   "execution_count": 64,
   "id": "460a1531",
   "metadata": {},
   "outputs": [
    {
     "data": {
      "text/plain": [
       "<matplotlib.patches.Polygon at 0x28a0d8160>"
      ]
     },
     "execution_count": 64,
     "metadata": {},
     "output_type": "execute_result"
    },
    {
     "data": {
      "image/png": "[encoded data removed]",
      "text/plain": [
       "<Figure size 720x432 with 1 Axes>"
      ]
     },
     "metadata": {
      "needs_background": "light"
     },
     "output_type": "display_data"
    }
   ],
   "source": [
    "df_doc = df[doc]\n",
    "mean_doc = df_doc.mean()\n",
    "median_doc = df_doc.median()\n",
    "std_doc = df_doc.std()\n",
    "plus_one_doc = mean_doc + std_doc\n",
    "minus_one_doc = mean_doc - std_doc\n",
    "fig,ax = plt.subplots(figsize=(10,6))\n",
    "sns.histplot(df_doc,ax=ax,stat='probability',kde=True)\n",
    "ax.axvline(mean_doc,color='red',label=f'mean = {mean_doc:,.2f}',)\n",
    "ax.axvline(median_doc,color='green',label=f'median = {median_doc:,.2f}',)\n",
    "ax.axvline(plus_one_doc,color='black',label=f'+1 std = {plus_one_doc:,.2f}',)\n",
    "ax.axvline(minus_one_doc,color='black',label=f'-1 std = {minus_one_doc:,.2f}',)\n",
    "ax.set_title(f'{level}')\n",
    "ax.legend()\n",
    "ax.axvspan(plus_one_doc,minus_one_doc,color='yellow',zorder=0)"
   ]
  },
  {
   "cell_type": "code",
   "execution_count": 72,
   "id": "eedfca9a",
   "metadata": {},
   "outputs": [
    {
     "data": {
      "text/plain": [
       "2.9919958083381206"
      ]
     },
     "execution_count": 72,
     "metadata": {},
     "output_type": "execute_result"
    }
   ],
   "source": [
    "kurt_doc = stats.kurtosis(df_doc,fisher=False)\n",
    "kurt_doc"
   ]
  },
  {
   "cell_type": "markdown",
   "id": "6fc6e198",
   "metadata": {},
   "source": [
    "1.discrete\n",
    "2.No skew\n",
    "3.Mesokurtic"
   ]
  },
  {
   "cell_type": "code",
   "execution_count": 65,
   "id": "e21b4502",
   "metadata": {},
   "outputs": [
    {
     "data": {
      "text/plain": [
       "0    3726.702860\n",
       "1    4193.190458\n",
       "2    2434.234222\n",
       "3    2127.830423\n",
       "4    2113.073274\n",
       "Name: TotalCharge, dtype: float64"
      ]
     },
     "execution_count": 65,
     "metadata": {},
     "output_type": "execute_result"
    }
   ],
   "source": [
    "df[charge].head(5)"
   ]
  },
  {
   "cell_type": "code",
   "execution_count": 66,
   "id": "9947dcbb",
   "metadata": {},
   "outputs": [
    {
     "data": {
      "text/plain": [
       "<matplotlib.patches.Polygon at 0x28a119f10>"
      ]
     },
     "execution_count": 66,
     "metadata": {},
     "output_type": "execute_result"
    },
    {
     "data": {
      "image/png": "[encoded data removed]",
      "text/plain": [
       "<Figure size 720x432 with 1 Axes>"
      ]
     },
     "metadata": {
      "needs_background": "light"
     },
     "output_type": "display_data"
    }
   ],
   "source": [
    "df_charge = df[charge]\n",
    "mean_charge = df_charge.mean()\n",
    "median_charge = df_charge.median()\n",
    "std_charge = df_charge.std()\n",
    "plus_one_charge = mean_charge + std_charge\n",
    "minus_one_charge = mean_charge - std_charge\n",
    "fig,ax = plt.subplots(figsize=(10,6))\n",
    "sns.histplot(df_charge,ax=ax,stat='probability',kde=True)\n",
    "ax.axvline(mean_charge,color='red',label=f'mean = {mean_charge:,.2f}',)\n",
    "ax.axvline(median_charge,color='green',label=f'median = {median_charge:,.2f}',)\n",
    "ax.axvline(plus_one_charge,color='black',label=f'+1 std = {plus_one_charge:,.2f}',)\n",
    "ax.axvline(minus_one_charge,color='black',label=f'-1 std = {minus_one_charge:,.2f}',)\n",
    "ax.set_title(f'{level}')\n",
    "ax.legend()\n",
    "ax.axvspan(plus_one_charge,minus_one_charge,color='yellow',zorder=0)"
   ]
  },
  {
   "cell_type": "code",
   "execution_count": 71,
   "id": "4ddb2e35",
   "metadata": {},
   "outputs": [
    {
     "data": {
      "text/plain": [
       "3.2650077463439384"
      ]
     },
     "execution_count": 71,
     "metadata": {},
     "output_type": "execute_result"
    }
   ],
   "source": [
    "kurt_charge = stats.kurtosis(df_charge,fisher=False)\n",
    "kurt_charge"
   ]
  },
  {
   "cell_type": "markdown",
   "id": "98243312",
   "metadata": {},
   "source": [
    "1.continuous\n",
    "2.positive skew\n",
    "3.Leptokurtic"
   ]
  },
  {
   "cell_type": "code",
   "execution_count": null,
   "id": "4313caf2",
   "metadata": {},
   "outputs": [],
   "source": []
  }
 ],
 "metadata": {
  "kernelspec": {
   "display_name": "Python 3 (ipykernel)",
   "language": "python",
   "name": "python3"
  },
  "language_info": {
   "codemirror_mode": {
    "name": "ipython",
    "version": 3
   },
   "file_extension": ".py",
   "mimetype": "text/x-python",
   "name": "python",
   "nbconvert_exporter": "python",
   "pygments_lexer": "ipython3",
   "version": "3.8.13"
  },
  "toc": {
   "base_numbering": 1,
   "nav_menu": {},
   "number_sections": false,
   "sideBar": true,
   "skip_h1_title": false,
   "title_cell": "Table of Contents",
   "title_sidebar": "Contents",
   "toc_cell": false,
   "toc_position": {},
   "toc_section_display": true,
   "toc_window_display": false
  }
 },
 "nbformat": 4,
 "nbformat_minor": 5
}
